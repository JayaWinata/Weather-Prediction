{
 "cells": [
  {
   "cell_type": "code",
   "execution_count": 1,
   "id": "517d71a3",
   "metadata": {},
   "outputs": [],
   "source": [
    "import os"
   ]
  },
  {
   "cell_type": "code",
   "execution_count": 2,
   "id": "913d1471",
   "metadata": {},
   "outputs": [],
   "source": [
    "os.chdir(\"../\")"
   ]
  },
  {
   "cell_type": "code",
   "execution_count": 3,
   "id": "f26ef65f",
   "metadata": {},
   "outputs": [],
   "source": [
    "import pandas as pd"
   ]
  },
  {
   "cell_type": "code",
   "execution_count": 4,
   "id": "b41b27ab",
   "metadata": {},
   "outputs": [],
   "source": [
    "df = pd.read_csv('artifacts/data_transformation/weather_data.csv')"
   ]
  },
  {
   "cell_type": "code",
   "execution_count": 5,
   "id": "13f9abac",
   "metadata": {},
   "outputs": [
    {
     "data": {
      "text/plain": [
       "Index(['temperature_2m_max', 'temperature_2m_min', 'apparent_temperature_max',\n",
       "       'apparent_temperature_min', 'wind_speed_10m_max', 'wind_gusts_10m_max',\n",
       "       'wind_direction_10m_dominant', 'shortwave_radiation_sum',\n",
       "       'uv_index_max', 'daylight_duration', 'sunshine_duration',\n",
       "       'et0_fao_evapotranspiration', 'weather'],\n",
       "      dtype='object')"
      ]
     },
     "execution_count": 5,
     "metadata": {},
     "output_type": "execute_result"
    }
   ],
   "source": [
    "df.columns"
   ]
  },
  {
   "cell_type": "code",
   "execution_count": 6,
   "id": "325aa525",
   "metadata": {},
   "outputs": [
    {
     "data": {
      "application/vnd.microsoft.datawrangler.viewer.v0+json": {
       "columns": [
        {
         "name": "index",
         "rawType": "int64",
         "type": "integer"
        },
        {
         "name": "temperature_2m_max",
         "rawType": "float64",
         "type": "float"
        },
        {
         "name": "temperature_2m_min",
         "rawType": "float64",
         "type": "float"
        },
        {
         "name": "apparent_temperature_max",
         "rawType": "float64",
         "type": "float"
        },
        {
         "name": "apparent_temperature_min",
         "rawType": "float64",
         "type": "float"
        },
        {
         "name": "wind_speed_10m_max",
         "rawType": "float64",
         "type": "float"
        },
        {
         "name": "wind_gusts_10m_max",
         "rawType": "float64",
         "type": "float"
        },
        {
         "name": "wind_direction_10m_dominant",
         "rawType": "float64",
         "type": "float"
        },
        {
         "name": "shortwave_radiation_sum",
         "rawType": "float64",
         "type": "float"
        },
        {
         "name": "uv_index_max",
         "rawType": "float64",
         "type": "float"
        },
        {
         "name": "daylight_duration",
         "rawType": "float64",
         "type": "float"
        },
        {
         "name": "sunshine_duration",
         "rawType": "float64",
         "type": "float"
        },
        {
         "name": "et0_fao_evapotranspiration",
         "rawType": "float64",
         "type": "float"
        },
        {
         "name": "weather",
         "rawType": "object",
         "type": "string"
        }
       ],
       "ref": "44e89c4c-c816-4c1d-aaed-88e7402ee8d4",
       "rows": [
        [
         "0",
         "30.0",
         "21.6",
         "36.4",
         "25.1",
         "8.1",
         "9.0",
         "31.0",
         "21.92",
         "9.1",
         "43734.84",
         "33604.27",
         "4.36",
         "Moderate rain showers"
        ],
        [
         "1",
         "26.8",
         "20.9",
         "31.5",
         "24.4",
         "11.5",
         "10.8",
         "201.0",
         "10.78",
         "6.75",
         "43707.88",
         "21149.46",
         "2.04",
         "Slight rain showers"
        ],
        [
         "2",
         "32.1",
         "20.5",
         "39.1",
         "23.4",
         "6.4",
         "10.4",
         "23.0",
         "15.25",
         "9.0",
         "43680.89",
         "23873.68",
         "3.18",
         "Moderate rain showers"
        ],
        [
         "3",
         "31.4",
         "20.7",
         "37.1",
         "24.6",
         "10.7",
         "19.1",
         "194.0",
         "22.66",
         "8.7",
         "43653.94",
         "36410.22",
         "4.41",
         "Moderate rain showers"
        ],
        [
         "4",
         "28.7",
         "20.8",
         "31.6",
         "23.9",
         "16.6",
         "40.3",
         "175.0",
         "11.81",
         "4.3",
         "43627.01",
         "18000.0",
         "2.43",
         "Thunderstorm: slight or moderate"
        ]
       ],
       "shape": {
        "columns": 13,
        "rows": 5
       }
      },
      "text/html": [
       "<div>\n",
       "<style scoped>\n",
       "    .dataframe tbody tr th:only-of-type {\n",
       "        vertical-align: middle;\n",
       "    }\n",
       "\n",
       "    .dataframe tbody tr th {\n",
       "        vertical-align: top;\n",
       "    }\n",
       "\n",
       "    .dataframe thead th {\n",
       "        text-align: right;\n",
       "    }\n",
       "</style>\n",
       "<table border=\"1\" class=\"dataframe\">\n",
       "  <thead>\n",
       "    <tr style=\"text-align: right;\">\n",
       "      <th></th>\n",
       "      <th>temperature_2m_max</th>\n",
       "      <th>temperature_2m_min</th>\n",
       "      <th>apparent_temperature_max</th>\n",
       "      <th>apparent_temperature_min</th>\n",
       "      <th>wind_speed_10m_max</th>\n",
       "      <th>wind_gusts_10m_max</th>\n",
       "      <th>wind_direction_10m_dominant</th>\n",
       "      <th>shortwave_radiation_sum</th>\n",
       "      <th>uv_index_max</th>\n",
       "      <th>daylight_duration</th>\n",
       "      <th>sunshine_duration</th>\n",
       "      <th>et0_fao_evapotranspiration</th>\n",
       "      <th>weather</th>\n",
       "    </tr>\n",
       "  </thead>\n",
       "  <tbody>\n",
       "    <tr>\n",
       "      <th>0</th>\n",
       "      <td>30.0</td>\n",
       "      <td>21.6</td>\n",
       "      <td>36.4</td>\n",
       "      <td>25.1</td>\n",
       "      <td>8.1</td>\n",
       "      <td>9.0</td>\n",
       "      <td>31.0</td>\n",
       "      <td>21.92</td>\n",
       "      <td>9.10</td>\n",
       "      <td>43734.84</td>\n",
       "      <td>33604.27</td>\n",
       "      <td>4.36</td>\n",
       "      <td>Moderate rain showers</td>\n",
       "    </tr>\n",
       "    <tr>\n",
       "      <th>1</th>\n",
       "      <td>26.8</td>\n",
       "      <td>20.9</td>\n",
       "      <td>31.5</td>\n",
       "      <td>24.4</td>\n",
       "      <td>11.5</td>\n",
       "      <td>10.8</td>\n",
       "      <td>201.0</td>\n",
       "      <td>10.78</td>\n",
       "      <td>6.75</td>\n",
       "      <td>43707.88</td>\n",
       "      <td>21149.46</td>\n",
       "      <td>2.04</td>\n",
       "      <td>Slight rain showers</td>\n",
       "    </tr>\n",
       "    <tr>\n",
       "      <th>2</th>\n",
       "      <td>32.1</td>\n",
       "      <td>20.5</td>\n",
       "      <td>39.1</td>\n",
       "      <td>23.4</td>\n",
       "      <td>6.4</td>\n",
       "      <td>10.4</td>\n",
       "      <td>23.0</td>\n",
       "      <td>15.25</td>\n",
       "      <td>9.00</td>\n",
       "      <td>43680.89</td>\n",
       "      <td>23873.68</td>\n",
       "      <td>3.18</td>\n",
       "      <td>Moderate rain showers</td>\n",
       "    </tr>\n",
       "    <tr>\n",
       "      <th>3</th>\n",
       "      <td>31.4</td>\n",
       "      <td>20.7</td>\n",
       "      <td>37.1</td>\n",
       "      <td>24.6</td>\n",
       "      <td>10.7</td>\n",
       "      <td>19.1</td>\n",
       "      <td>194.0</td>\n",
       "      <td>22.66</td>\n",
       "      <td>8.70</td>\n",
       "      <td>43653.94</td>\n",
       "      <td>36410.22</td>\n",
       "      <td>4.41</td>\n",
       "      <td>Moderate rain showers</td>\n",
       "    </tr>\n",
       "    <tr>\n",
       "      <th>4</th>\n",
       "      <td>28.7</td>\n",
       "      <td>20.8</td>\n",
       "      <td>31.6</td>\n",
       "      <td>23.9</td>\n",
       "      <td>16.6</td>\n",
       "      <td>40.3</td>\n",
       "      <td>175.0</td>\n",
       "      <td>11.81</td>\n",
       "      <td>4.30</td>\n",
       "      <td>43627.01</td>\n",
       "      <td>18000.00</td>\n",
       "      <td>2.43</td>\n",
       "      <td>Thunderstorm: slight or moderate</td>\n",
       "    </tr>\n",
       "  </tbody>\n",
       "</table>\n",
       "</div>"
      ],
      "text/plain": [
       "   temperature_2m_max  temperature_2m_min  apparent_temperature_max  \\\n",
       "0                30.0                21.6                      36.4   \n",
       "1                26.8                20.9                      31.5   \n",
       "2                32.1                20.5                      39.1   \n",
       "3                31.4                20.7                      37.1   \n",
       "4                28.7                20.8                      31.6   \n",
       "\n",
       "   apparent_temperature_min  wind_speed_10m_max  wind_gusts_10m_max  \\\n",
       "0                      25.1                 8.1                 9.0   \n",
       "1                      24.4                11.5                10.8   \n",
       "2                      23.4                 6.4                10.4   \n",
       "3                      24.6                10.7                19.1   \n",
       "4                      23.9                16.6                40.3   \n",
       "\n",
       "   wind_direction_10m_dominant  shortwave_radiation_sum  uv_index_max  \\\n",
       "0                         31.0                    21.92          9.10   \n",
       "1                        201.0                    10.78          6.75   \n",
       "2                         23.0                    15.25          9.00   \n",
       "3                        194.0                    22.66          8.70   \n",
       "4                        175.0                    11.81          4.30   \n",
       "\n",
       "   daylight_duration  sunshine_duration  et0_fao_evapotranspiration  \\\n",
       "0           43734.84           33604.27                        4.36   \n",
       "1           43707.88           21149.46                        2.04   \n",
       "2           43680.89           23873.68                        3.18   \n",
       "3           43653.94           36410.22                        4.41   \n",
       "4           43627.01           18000.00                        2.43   \n",
       "\n",
       "                            weather  \n",
       "0             Moderate rain showers  \n",
       "1               Slight rain showers  \n",
       "2             Moderate rain showers  \n",
       "3             Moderate rain showers  \n",
       "4  Thunderstorm: slight or moderate  "
      ]
     },
     "execution_count": 6,
     "metadata": {},
     "output_type": "execute_result"
    }
   ],
   "source": [
    "df.head()"
   ]
  }
 ],
 "metadata": {
  "kernelspec": {
   "display_name": "weather-prediction-venv",
   "language": "python",
   "name": "python3"
  },
  "language_info": {
   "codemirror_mode": {
    "name": "ipython",
    "version": 3
   },
   "file_extension": ".py",
   "mimetype": "text/x-python",
   "name": "python",
   "nbconvert_exporter": "python",
   "pygments_lexer": "ipython3",
   "version": "3.10.11"
  }
 },
 "nbformat": 4,
 "nbformat_minor": 5
}
