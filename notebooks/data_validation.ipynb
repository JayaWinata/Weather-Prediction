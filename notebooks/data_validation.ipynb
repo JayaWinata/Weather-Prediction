{
 "cells": [
  {
   "cell_type": "code",
   "execution_count": 1,
   "id": "088ede44",
   "metadata": {},
   "outputs": [],
   "source": [
    "import os"
   ]
  },
  {
   "cell_type": "code",
   "execution_count": 2,
   "id": "17d02426",
   "metadata": {},
   "outputs": [],
   "source": [
    "os.chdir(\"../\")"
   ]
  },
  {
   "cell_type": "code",
   "execution_count": 4,
   "id": "9887739e",
   "metadata": {},
   "outputs": [],
   "source": [
    "import pandas as pd"
   ]
  },
  {
   "cell_type": "code",
   "execution_count": 5,
   "id": "df370884",
   "metadata": {},
   "outputs": [],
   "source": [
    "df = pd.read_csv('artifacts/data_ingestion/weather_data.csv', skiprows=3)"
   ]
  },
  {
   "cell_type": "code",
   "execution_count": 6,
   "id": "28223584",
   "metadata": {},
   "outputs": [
    {
     "name": "stdout",
     "output_type": "stream",
     "text": [
      "<class 'pandas.core.frame.DataFrame'>\n",
      "RangeIndex: 97 entries, 0 to 96\n",
      "Data columns (total 14 columns):\n",
      " #   Column                           Non-Null Count  Dtype  \n",
      "---  ------                           --------------  -----  \n",
      " 0   time                             97 non-null     object \n",
      " 1   temperature_2m_max (°C)          87 non-null     float64\n",
      " 2   temperature_2m_min (°C)          87 non-null     float64\n",
      " 3   weather_code (wmo code)          87 non-null     float64\n",
      " 4   apparent_temperature_max (°C)    87 non-null     float64\n",
      " 5   apparent_temperature_min (°C)    87 non-null     float64\n",
      " 6   wind_speed_10m_max (km/h)        87 non-null     float64\n",
      " 7   wind_gusts_10m_max (km/h)        87 non-null     float64\n",
      " 8   wind_direction_10m_dominant (°)  87 non-null     float64\n",
      " 9   shortwave_radiation_sum (MJ/m²)  87 non-null     float64\n",
      " 10  uv_index_max ()                  87 non-null     float64\n",
      " 11  daylight_duration (s)            97 non-null     float64\n",
      " 12  sunshine_duration (s)            87 non-null     float64\n",
      " 13  et0_fao_evapotranspiration (mm)  87 non-null     float64\n",
      "dtypes: float64(13), object(1)\n",
      "memory usage: 10.7+ KB\n"
     ]
    }
   ],
   "source": [
    "df.info()"
   ]
  }
 ],
 "metadata": {
  "kernelspec": {
   "display_name": "weather-prediction-venv",
   "language": "python",
   "name": "python3"
  },
  "language_info": {
   "codemirror_mode": {
    "name": "ipython",
    "version": 3
   },
   "file_extension": ".py",
   "mimetype": "text/x-python",
   "name": "python",
   "nbconvert_exporter": "python",
   "pygments_lexer": "ipython3",
   "version": "3.10.11"
  }
 },
 "nbformat": 4,
 "nbformat_minor": 5
}
