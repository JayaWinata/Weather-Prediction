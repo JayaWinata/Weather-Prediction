{
 "cells": [
  {
   "cell_type": "code",
   "execution_count": null,
   "id": "2a67de38",
   "metadata": {},
   "outputs": [],
   "source": [
    "import os\n",
    "os.chdir('../')"
   ]
  },
  {
   "cell_type": "code",
   "execution_count": null,
   "id": "481a29e1",
   "metadata": {},
   "outputs": [],
   "source": [
    "from src.utils.helper import read_yaml, create_directories\n",
    "from src.constants import *\n",
    "from src import logger\n",
    "\n",
    "from urllib.parse import urlencode\n",
    "from dataclasses import dataclass\n",
    "import urllib.request as request\n",
    "from pathlib import Path\n"
   ]
  },
  {
   "cell_type": "code",
   "execution_count": 13,
   "id": "416feb12",
   "metadata": {},
   "outputs": [],
   "source": [
    "@dataclass\n",
    "class DataIngestionConfig:\n",
    "    root_dir: Path\n",
    "    base_source_url: str\n",
    "    data_path: Path\n",
    "    url_params: list\n",
    "    target_dir: Path"
   ]
  },
  {
   "cell_type": "code",
   "execution_count": 15,
   "id": "233409a1",
   "metadata": {},
   "outputs": [],
   "source": [
    "class ConfigurationManager:\n",
    "    def __init__(self,\n",
    "                 config_filepath = CONFIG_FILEPATH,\n",
    "                 params_filepath = PARAMS_FILEPATH,\n",
    "                 schema_filepath = SCHEMA_FILEPATH):\n",
    "        self.config = read_yaml(config_filepath)\n",
    "        self.params = read_yaml(params_filepath)\n",
    "        self.schema = read_yaml(schema_filepath)\n",
    "\n",
    "        create_directories([self.config.artifacts_root])\n",
    "\n",
    "    def get_data_ingestion_config(self) -> DataIngestionConfig:\n",
    "        config = self.config.data_ingestion\n",
    "        create_directories([config.root_dir])\n",
    "\n",
    "        data_ingestion_config = DataIngestionConfig(\n",
    "            root_dir = config.root_dir,\n",
    "            base_source_url = config.base_source_url,\n",
    "            data_path= config.data_path,\n",
    "            url_params = config.url_params,\n",
    "            target_dir = config.target_dir\n",
    "        )\n",
    "\n",
    "        return data_ingestion_config"
   ]
  },
  {
   "cell_type": "code",
   "execution_count": 24,
   "id": "4c0a7477",
   "metadata": {},
   "outputs": [],
   "source": [
    "class DataIngestion:\n",
    "    def __init__(self, config: DataIngestionConfig):\n",
    "        self.config = config\n",
    "\n",
    "    def download_data(self):\n",
    "        if not os.path.exists(self.config.data_path):\n",
    "            params = urlencode(self.config.url_params, doseq=True)\n",
    "            url = f\"{self.config.base_source_url}?{params}\"\n",
    "            print(url)\n",
    "            filename, headers = request.urlretrieve(\n",
    "                url = url,\n",
    "                filename = self.config.data_path\n",
    "            )\n",
    "            logger.info(f'{filename} download! with following info: \\n{headers}')\n",
    "        else:\n",
    "            logger.info(\"File already exists\")\n",
    "\n",
    "    def get_daily_data(self):\n",
    "        pass"
   ]
  },
  {
   "cell_type": "code",
   "execution_count": 25,
   "id": "545f1982",
   "metadata": {},
   "outputs": [
    {
     "name": "stdout",
     "output_type": "stream",
     "text": [
      "[2025-05-14 09:48:00,038: INFO: helper: yaml file: config\\config.yaml loaded successfully]\n",
      "[2025-05-14 09:48:00,045: INFO: helper: yaml file: params.yaml loaded successfully]\n",
      "[2025-05-14 09:48:00,046: INFO: helper: yaml file: schema.yaml loaded successfully]\n",
      "[2025-05-14 09:48:00,052: INFO: helper: created directory at: artifacts]\n",
      "[2025-05-14 09:48:00,058: INFO: helper: created directory at: artifacts/data_ingestion]\n",
      "https://api.open-meteo.com/v1/forecast?latitude=-7.9797&longitude=112.6304&daily=temperature_2m_max&daily=temperature_2m_min&daily=weather_code&daily=apparent_temperature_max&daily=apparent_temperature_min&daily=wind_speed_10m_max&daily=wind_gusts_10m_max&daily=wind_direction_10m_dominant&daily=shortwave_radiation_sum&daily=uv_index_max&daily=daylight_duration&daily=sunshine_duration&daily=et0_fao_evapotranspiration&start_date=2025-02-13&end_date=2025-05-20&format=csv\n",
      "[2025-05-14 09:48:03,349: INFO: 195169852: artifacts/data_ingestion/weather_data.csv download! with following info: \n",
      "Date: Wed, 14 May 2025 02:48:00 GMT\n",
      "Content-Type: text/csv; charset=utf-8\n",
      "Transfer-Encoding: chunked\n",
      "Connection: close\n",
      "content-disposition: attachment; filename=\"open-meteo-8.00S112.62E446m.csv\"\n",
      "\n",
      "]\n"
     ]
    }
   ],
   "source": [
    "try:\n",
    "    config = ConfigurationManager()\n",
    "    data_ingestion_config = config.get_data_ingestion_config()\n",
    "    data_ingestion = DataIngestion(config=data_ingestion_config)\n",
    "    data_ingestion.download_data()\n",
    "except Exception as e:\n",
    "    raise e"
   ]
  }
 ],
 "metadata": {
  "kernelspec": {
   "display_name": "weather-prediction-venv",
   "language": "python",
   "name": "python3"
  },
  "language_info": {
   "codemirror_mode": {
    "name": "ipython",
    "version": 3
   },
   "file_extension": ".py",
   "mimetype": "text/x-python",
   "name": "python",
   "nbconvert_exporter": "python",
   "pygments_lexer": "ipython3",
   "version": "3.10.11"
  }
 },
 "nbformat": 4,
 "nbformat_minor": 5
}
