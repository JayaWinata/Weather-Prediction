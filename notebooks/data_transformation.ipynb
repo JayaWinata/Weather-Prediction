{
 "cells": [
  {
   "cell_type": "code",
   "execution_count": 1,
   "id": "c8c925ac",
   "metadata": {},
   "outputs": [],
   "source": [
    "import os"
   ]
  },
  {
   "cell_type": "code",
   "execution_count": 2,
   "id": "62ba8d2e",
   "metadata": {},
   "outputs": [
    {
     "data": {
      "text/plain": [
       "'d:\\\\My\\\\AboutData\\\\Project\\\\Weather-Prediction\\\\notebooks'"
      ]
     },
     "execution_count": 2,
     "metadata": {},
     "output_type": "execute_result"
    }
   ],
   "source": [
    "%pwd"
   ]
  },
  {
   "cell_type": "code",
   "execution_count": 3,
   "id": "d45ec6aa",
   "metadata": {},
   "outputs": [
    {
     "data": {
      "text/plain": [
       "'d:\\\\My\\\\AboutData\\\\Project\\\\Weather-Prediction'"
      ]
     },
     "execution_count": 3,
     "metadata": {},
     "output_type": "execute_result"
    }
   ],
   "source": [
    "os.chdir('../')\n",
    "%pwd"
   ]
  },
  {
   "cell_type": "code",
   "execution_count": 4,
   "id": "8de65ff9",
   "metadata": {},
   "outputs": [],
   "source": [
    "from dataclasses import dataclass\n",
    "from pathlib import Path"
   ]
  },
  {
   "cell_type": "code",
   "execution_count": 5,
   "id": "276903c9",
   "metadata": {},
   "outputs": [],
   "source": [
    "@dataclass\n",
    "class DataTransformationConfig:\n",
    "    root_dir: Path\n",
    "    data_path: Path\n",
    "    transformed_filename: Path"
   ]
  },
  {
   "cell_type": "code",
   "execution_count": 6,
   "id": "d4db659e",
   "metadata": {},
   "outputs": [],
   "source": [
    "from src.constants import *\n",
    "from src.utils.helper import read_yaml, create_directories"
   ]
  },
  {
   "cell_type": "code",
   "execution_count": null,
   "id": "6e19a9e2",
   "metadata": {},
   "outputs": [],
   "source": [
    "class ConfigurationManager:\n",
    "    def __init__(self, config_filepath = CONFIG_FILEPATH, params_filepath = PARAMS_FILEPATH, schema_filepath = SCHEMA_FILEPATH):\n",
    "        self.config = read_yaml(config_filepath)\n",
    "        self.params = read_yaml(params_filepath)\n",
    "        self.schema = read_yaml(schema_filepath)\n",
    "\n",
    "        create_directories([self.config.artifacts_root])\n",
    "\n",
    "    def get_data_transformation_config(self) -> DataTransformationConfig:\n",
    "        config = self.config.data_transformation\n",
    "        create_directories([config.root_dir])\n",
    "\n",
    "        data_transformation_config = DataTransformationConfig(\n",
    "            root_dir = config.root_dir,\n",
    "            data_path = config.data_path,\n",
    "            transformed_filename = config.transformed_filename\n",
    "        )\n",
    "\n",
    "        return data_transformation_config\n"
   ]
  },
  {
   "cell_type": "code",
   "execution_count": 8,
   "id": "4618d0ba",
   "metadata": {},
   "outputs": [],
   "source": [
    "import os\n",
    "from src import logger\n",
    "from sklearn.model_selection import train_test_split\n",
    "import pandas as pd"
   ]
  },
  {
   "cell_type": "code",
   "execution_count": null,
   "id": "7148e6ca",
   "metadata": {},
   "outputs": [],
   "source": [
    "class DataTransformation:\n",
    "    def __init__(self, config: DataTransformationConfig):\n",
    "        self.config = config\n",
    "\n",
    "    def handle_missing_values(self):\n",
    "        data = pd.read_csv(self.config.data_path)\n",
    "        data.dropna(subset=['weather_code'], inplace=True)\n",
    "        data.to_csv(os.path.join(self.config.root_dir, self.config.transformed_filename))\n",
    "\n",
    "        logger.info(\"Missing value handled successfully\")\n",
    "\n",
    "    def feature_engineering(self):\n",
    "        weather_codes = {\n",
    "            0: \"Clear sky\",\n",
    "            1: \"Mainly clear\",\n",
    "            2: \"Partly cloudy\",\n",
    "            3: \"Overcast\",\n",
    "            45: \"Fog\",\n",
    "            48: \"Depositing rime fog\",\n",
    "            51: \"Light drizzle\",\n",
    "            53: \"Moderate drizzle\",\n",
    "            55: \"Dense drizzle\",\n",
    "            56: \"Light freezing drizzle\",\n",
    "            57: \"Dense freezing drizzle\",\n",
    "            61: \"Slight rain\",\n",
    "            63: \"Moderate rain\",\n",
    "            65: \"Heavy rain\",\n",
    "            66: \"Light freezing rain\",\n",
    "            67: \"Heavy freezing rain\",\n",
    "            71: \"Slight snow fall\",\n",
    "            73: \"Moderate snow fall\",\n",
    "            75: \"Heavy snow fall\",\n",
    "            77: \"Snow grains\",\n",
    "            80: \"Slight rain showers\",\n",
    "            81: \"Moderate rain showers\",\n",
    "            82: \"Violent rain showers\",\n",
    "            85: \"Slight snow showers\",\n",
    "            86: \"Heavy snow showers\",\n",
    "            95: \"Thunderstorm: slight or moderate\",\n",
    "            96: \"Thunderstorm with slight hail\",\n",
    "            99: \"Thunderstorm with heavy hail\",\n",
    "        }\n",
    "\n",
    "        data = pd.read_csv(self.config.data_path)\n",
    "        data['weather'] = data['weather_code'].apply(lambda x: weather_codes[x])\n",
    "        data.drop(['weather_code', 'time'], axis=1, inplace=True)\n",
    "        data.to_csv(os.path.join(self.config.root_dir, self.config.transformed_filename))\n",
    "\n",
    "        logger.info('Feature engineering done successfully')\n",
    "\n",
    "    def train_test_spliting(self):\n",
    "        data = pd.read_csv(os.path.join(self.config.root_dir, self.config.transformed_filename))\n",
    "\n",
    "        train, test = train_test_split(data, test_size=.25)\n",
    "\n",
    "        train.to_csv(os.path.join(self.config.root_dir, \"train.csv\"),index = False)\n",
    "        test.to_csv(os.path.join(self.config.root_dir, \"test.csv\"),index = False)\n",
    "\n",
    "        logger.info(\"Splited data into training and test sets\")\n",
    "        logger.info(f\"Train shape: {train.shape}\")\n",
    "        logger.info(f\"Test shape: {test.shape}\")"
   ]
  },
  {
   "cell_type": "code",
   "execution_count": null,
   "id": "e956c4ed",
   "metadata": {},
   "outputs": [
    {
     "name": "stdout",
     "output_type": "stream",
     "text": [
      "[2025-05-22 14:02:52,239: INFO: helper: yaml file: config\\config.yaml loaded successfully]\n",
      "[2025-05-22 14:02:52,323: INFO: helper: yaml file: params.yaml loaded successfully]\n",
      "[2025-05-22 14:02:52,328: INFO: helper: yaml file: schema.yaml loaded successfully]\n",
      "[2025-05-22 14:02:52,331: INFO: helper: created directory at: artifacts]\n",
      "[2025-05-22 14:02:52,333: INFO: helper: created directory at: artifacts/data_transformation]\n",
      "[2025-05-22 14:02:52,426: INFO: 1547636484: Missing value handled successfully]\n",
      "[2025-05-22 14:02:52,489: INFO: 1547636484: Splited data into training and test sets]\n",
      "[2025-05-22 14:02:52,491: INFO: 1547636484: Train shape: (65, 15)]\n",
      "[2025-05-22 14:02:52,493: INFO: 1547636484: Test shape: (22, 15)]\n"
     ]
    }
   ],
   "source": [
    "try:\n",
    "    config = ConfigurationManager()\n",
    "    data_transformation_config = config.get_data_transformation_config()\n",
    "    data_transformation = DataTransformation(config=data_transformation_config)\n",
    "    data_transformation.handle_missing_values()\n",
    "    data_transformation.feature_engineering()\n",
    "    data_transformation.train_test_spliting()\n",
    "except Exception as e:\n",
    "    raise e"
   ]
  },
  {
   "cell_type": "markdown",
   "id": "1d306333",
   "metadata": {},
   "source": [
    "## Data Transformation Testing"
   ]
  },
  {
   "cell_type": "code",
   "execution_count": 32,
   "id": "b39d43f2",
   "metadata": {},
   "outputs": [],
   "source": [
    "import pandas as pd"
   ]
  },
  {
   "cell_type": "code",
   "execution_count": 33,
   "id": "11794b9c",
   "metadata": {},
   "outputs": [],
   "source": [
    "df = pd.read_csv('artifacts/data_ingestion/weather_data.csv')"
   ]
  },
  {
   "cell_type": "code",
   "execution_count": 34,
   "id": "533da687",
   "metadata": {},
   "outputs": [
    {
     "data": {
      "application/vnd.microsoft.datawrangler.viewer.v0+json": {
       "columns": [
        {
         "name": "index",
         "rawType": "int64",
         "type": "integer"
        },
        {
         "name": "time",
         "rawType": "object",
         "type": "string"
        },
        {
         "name": "temperature_2m_max",
         "rawType": "float64",
         "type": "float"
        },
        {
         "name": "temperature_2m_min",
         "rawType": "float64",
         "type": "float"
        },
        {
         "name": "weather_code",
         "rawType": "float64",
         "type": "float"
        },
        {
         "name": "apparent_temperature_max",
         "rawType": "float64",
         "type": "float"
        },
        {
         "name": "apparent_temperature_min",
         "rawType": "float64",
         "type": "float"
        },
        {
         "name": "wind_speed_10m_max",
         "rawType": "float64",
         "type": "float"
        },
        {
         "name": "wind_gusts_10m_max",
         "rawType": "float64",
         "type": "float"
        },
        {
         "name": "wind_direction_10m_dominant",
         "rawType": "float64",
         "type": "float"
        },
        {
         "name": "shortwave_radiation_sum",
         "rawType": "float64",
         "type": "float"
        },
        {
         "name": "uv_index_max",
         "rawType": "float64",
         "type": "float"
        },
        {
         "name": "daylight_duration",
         "rawType": "float64",
         "type": "float"
        },
        {
         "name": "sunshine_duration",
         "rawType": "float64",
         "type": "float"
        },
        {
         "name": "et0_fao_evapotranspiration",
         "rawType": "float64",
         "type": "float"
        }
       ],
       "ref": "17c73a21-a4f6-48ed-86b1-03514b4c8a59",
       "rows": [
        [
         "0",
         "2025-02-13",
         null,
         null,
         null,
         null,
         null,
         null,
         null,
         null,
         null,
         null,
         "44519.41",
         null,
         null
        ],
        [
         "1",
         "2025-02-14",
         null,
         null,
         null,
         null,
         null,
         null,
         null,
         null,
         null,
         null,
         "44494.91",
         null,
         null
        ],
        [
         "2",
         "2025-02-15",
         null,
         null,
         null,
         null,
         null,
         null,
         null,
         null,
         null,
         null,
         "44470.38",
         null,
         null
        ],
        [
         "3",
         "2025-02-16",
         null,
         null,
         null,
         null,
         null,
         null,
         null,
         null,
         null,
         null,
         "44445.79",
         null,
         null
        ],
        [
         "4",
         "2025-02-17",
         null,
         null,
         null,
         null,
         null,
         null,
         null,
         null,
         null,
         null,
         "44420.94",
         null,
         null
        ]
       ],
       "shape": {
        "columns": 14,
        "rows": 5
       }
      },
      "text/html": [
       "<div>\n",
       "<style scoped>\n",
       "    .dataframe tbody tr th:only-of-type {\n",
       "        vertical-align: middle;\n",
       "    }\n",
       "\n",
       "    .dataframe tbody tr th {\n",
       "        vertical-align: top;\n",
       "    }\n",
       "\n",
       "    .dataframe thead th {\n",
       "        text-align: right;\n",
       "    }\n",
       "</style>\n",
       "<table border=\"1\" class=\"dataframe\">\n",
       "  <thead>\n",
       "    <tr style=\"text-align: right;\">\n",
       "      <th></th>\n",
       "      <th>time</th>\n",
       "      <th>temperature_2m_max</th>\n",
       "      <th>temperature_2m_min</th>\n",
       "      <th>weather_code</th>\n",
       "      <th>apparent_temperature_max</th>\n",
       "      <th>apparent_temperature_min</th>\n",
       "      <th>wind_speed_10m_max</th>\n",
       "      <th>wind_gusts_10m_max</th>\n",
       "      <th>wind_direction_10m_dominant</th>\n",
       "      <th>shortwave_radiation_sum</th>\n",
       "      <th>uv_index_max</th>\n",
       "      <th>daylight_duration</th>\n",
       "      <th>sunshine_duration</th>\n",
       "      <th>et0_fao_evapotranspiration</th>\n",
       "    </tr>\n",
       "  </thead>\n",
       "  <tbody>\n",
       "    <tr>\n",
       "      <th>0</th>\n",
       "      <td>2025-02-13</td>\n",
       "      <td>NaN</td>\n",
       "      <td>NaN</td>\n",
       "      <td>NaN</td>\n",
       "      <td>NaN</td>\n",
       "      <td>NaN</td>\n",
       "      <td>NaN</td>\n",
       "      <td>NaN</td>\n",
       "      <td>NaN</td>\n",
       "      <td>NaN</td>\n",
       "      <td>NaN</td>\n",
       "      <td>44519.41</td>\n",
       "      <td>NaN</td>\n",
       "      <td>NaN</td>\n",
       "    </tr>\n",
       "    <tr>\n",
       "      <th>1</th>\n",
       "      <td>2025-02-14</td>\n",
       "      <td>NaN</td>\n",
       "      <td>NaN</td>\n",
       "      <td>NaN</td>\n",
       "      <td>NaN</td>\n",
       "      <td>NaN</td>\n",
       "      <td>NaN</td>\n",
       "      <td>NaN</td>\n",
       "      <td>NaN</td>\n",
       "      <td>NaN</td>\n",
       "      <td>NaN</td>\n",
       "      <td>44494.91</td>\n",
       "      <td>NaN</td>\n",
       "      <td>NaN</td>\n",
       "    </tr>\n",
       "    <tr>\n",
       "      <th>2</th>\n",
       "      <td>2025-02-15</td>\n",
       "      <td>NaN</td>\n",
       "      <td>NaN</td>\n",
       "      <td>NaN</td>\n",
       "      <td>NaN</td>\n",
       "      <td>NaN</td>\n",
       "      <td>NaN</td>\n",
       "      <td>NaN</td>\n",
       "      <td>NaN</td>\n",
       "      <td>NaN</td>\n",
       "      <td>NaN</td>\n",
       "      <td>44470.38</td>\n",
       "      <td>NaN</td>\n",
       "      <td>NaN</td>\n",
       "    </tr>\n",
       "    <tr>\n",
       "      <th>3</th>\n",
       "      <td>2025-02-16</td>\n",
       "      <td>NaN</td>\n",
       "      <td>NaN</td>\n",
       "      <td>NaN</td>\n",
       "      <td>NaN</td>\n",
       "      <td>NaN</td>\n",
       "      <td>NaN</td>\n",
       "      <td>NaN</td>\n",
       "      <td>NaN</td>\n",
       "      <td>NaN</td>\n",
       "      <td>NaN</td>\n",
       "      <td>44445.79</td>\n",
       "      <td>NaN</td>\n",
       "      <td>NaN</td>\n",
       "    </tr>\n",
       "    <tr>\n",
       "      <th>4</th>\n",
       "      <td>2025-02-17</td>\n",
       "      <td>NaN</td>\n",
       "      <td>NaN</td>\n",
       "      <td>NaN</td>\n",
       "      <td>NaN</td>\n",
       "      <td>NaN</td>\n",
       "      <td>NaN</td>\n",
       "      <td>NaN</td>\n",
       "      <td>NaN</td>\n",
       "      <td>NaN</td>\n",
       "      <td>NaN</td>\n",
       "      <td>44420.94</td>\n",
       "      <td>NaN</td>\n",
       "      <td>NaN</td>\n",
       "    </tr>\n",
       "  </tbody>\n",
       "</table>\n",
       "</div>"
      ],
      "text/plain": [
       "         time  temperature_2m_max  temperature_2m_min  weather_code  \\\n",
       "0  2025-02-13                 NaN                 NaN           NaN   \n",
       "1  2025-02-14                 NaN                 NaN           NaN   \n",
       "2  2025-02-15                 NaN                 NaN           NaN   \n",
       "3  2025-02-16                 NaN                 NaN           NaN   \n",
       "4  2025-02-17                 NaN                 NaN           NaN   \n",
       "\n",
       "   apparent_temperature_max  apparent_temperature_min  wind_speed_10m_max  \\\n",
       "0                       NaN                       NaN                 NaN   \n",
       "1                       NaN                       NaN                 NaN   \n",
       "2                       NaN                       NaN                 NaN   \n",
       "3                       NaN                       NaN                 NaN   \n",
       "4                       NaN                       NaN                 NaN   \n",
       "\n",
       "   wind_gusts_10m_max  wind_direction_10m_dominant  shortwave_radiation_sum  \\\n",
       "0                 NaN                          NaN                      NaN   \n",
       "1                 NaN                          NaN                      NaN   \n",
       "2                 NaN                          NaN                      NaN   \n",
       "3                 NaN                          NaN                      NaN   \n",
       "4                 NaN                          NaN                      NaN   \n",
       "\n",
       "   uv_index_max  daylight_duration  sunshine_duration  \\\n",
       "0           NaN           44519.41                NaN   \n",
       "1           NaN           44494.91                NaN   \n",
       "2           NaN           44470.38                NaN   \n",
       "3           NaN           44445.79                NaN   \n",
       "4           NaN           44420.94                NaN   \n",
       "\n",
       "   et0_fao_evapotranspiration  \n",
       "0                         NaN  \n",
       "1                         NaN  \n",
       "2                         NaN  \n",
       "3                         NaN  \n",
       "4                         NaN  "
      ]
     },
     "execution_count": 34,
     "metadata": {},
     "output_type": "execute_result"
    }
   ],
   "source": [
    "df.head()"
   ]
  },
  {
   "cell_type": "code",
   "execution_count": 28,
   "id": "f25ebf52",
   "metadata": {},
   "outputs": [],
   "source": [
    "weather_codes = {\n",
    "    0: \"Clear sky\",\n",
    "    1: \"Mainly clear\",\n",
    "    2: \"Partly cloudy\",\n",
    "    3: \"Overcast\",\n",
    "    45: \"Fog\",\n",
    "    48: \"Depositing rime fog\",\n",
    "    51: \"Light drizzle\",\n",
    "    53: \"Moderate drizzle\",\n",
    "    55: \"Dense drizzle\",\n",
    "    56: \"Light freezing drizzle\",\n",
    "    57: \"Dense freezing drizzle\",\n",
    "    61: \"Slight rain\",\n",
    "    63: \"Moderate rain\",\n",
    "    65: \"Heavy rain\",\n",
    "    66: \"Light freezing rain\",\n",
    "    67: \"Heavy freezing rain\",\n",
    "    71: \"Slight snow fall\",\n",
    "    73: \"Moderate snow fall\",\n",
    "    75: \"Heavy snow fall\",\n",
    "    77: \"Snow grains\",\n",
    "    80: \"Slight rain showers\",\n",
    "    81: \"Moderate rain showers\",\n",
    "    82: \"Violent rain showers\",\n",
    "    85: \"Slight snow showers\",\n",
    "    86: \"Heavy snow showers\",\n",
    "    95: \"Thunderstorm: slight or moderate\",\n",
    "    96: \"Thunderstorm with slight hail\",\n",
    "    99: \"Thunderstorm with heavy hail\",\n",
    "}\n"
   ]
  },
  {
   "cell_type": "code",
   "execution_count": 29,
   "id": "88a87502",
   "metadata": {},
   "outputs": [],
   "source": [
    "df['weather'] = df['weather_code'].apply(lambda x: weather_codes[x])"
   ]
  },
  {
   "cell_type": "code",
   "execution_count": 30,
   "id": "b8230770",
   "metadata": {},
   "outputs": [],
   "source": [
    "df.drop(['weather_code', 'time'], axis=1, inplace=True)"
   ]
  },
  {
   "cell_type": "code",
   "execution_count": 31,
   "id": "e7f221ef",
   "metadata": {},
   "outputs": [
    {
     "data": {
      "application/vnd.microsoft.datawrangler.viewer.v0+json": {
       "columns": [
        {
         "name": "index",
         "rawType": "int64",
         "type": "integer"
        },
        {
         "name": "temperature_2m_max",
         "rawType": "float64",
         "type": "float"
        },
        {
         "name": "temperature_2m_min",
         "rawType": "float64",
         "type": "float"
        },
        {
         "name": "apparent_temperature_max",
         "rawType": "float64",
         "type": "float"
        },
        {
         "name": "apparent_temperature_min",
         "rawType": "float64",
         "type": "float"
        },
        {
         "name": "wind_speed_10m_max",
         "rawType": "float64",
         "type": "float"
        },
        {
         "name": "wind_gusts_10m_max",
         "rawType": "float64",
         "type": "float"
        },
        {
         "name": "wind_direction_10m_dominant",
         "rawType": "float64",
         "type": "float"
        },
        {
         "name": "shortwave_radiation_sum",
         "rawType": "float64",
         "type": "float"
        },
        {
         "name": "uv_index_max",
         "rawType": "float64",
         "type": "float"
        },
        {
         "name": "daylight_duration",
         "rawType": "float64",
         "type": "float"
        },
        {
         "name": "sunshine_duration",
         "rawType": "float64",
         "type": "float"
        },
        {
         "name": "et0_fao_evapotranspiration",
         "rawType": "float64",
         "type": "float"
        },
        {
         "name": "weather",
         "rawType": "object",
         "type": "string"
        }
       ],
       "ref": "be1c6b18-8660-4f45-be63-b0fe977350ab",
       "rows": [
        [
         "0",
         "29.1",
         "20.1",
         "34.4",
         "23.0",
         "10.0",
         "13.0",
         "31.0",
         "16.23",
         "8.75",
         "44266.77",
         "28800.0",
         "3.29",
         "Moderate rain showers"
        ],
        [
         "1",
         "27.5",
         "20.6",
         "33.1",
         "23.8",
         "8.3",
         "13.0",
         "317.0",
         "15.04",
         "8.4",
         "44240.46",
         "22565.18",
         "2.87",
         "Moderate rain showers"
        ],
        [
         "2",
         "26.3",
         "20.6",
         "32.5",
         "24.1",
         "9.4",
         "18.4",
         "207.0",
         "18.17",
         "8.7",
         "44214.03",
         "34493.4",
         "3.47",
         "Slight rain showers"
        ],
        [
         "3",
         "26.8",
         "20.7",
         "34.9",
         "23.9",
         "5.7",
         "17.3",
         "60.0",
         "13.68",
         "8.65",
         "44187.51",
         "23368.11",
         "2.77",
         "Moderate rain showers"
        ],
        [
         "4",
         "29.6",
         "19.8",
         "35.5",
         "22.5",
         "9.7",
         "14.4",
         "48.0",
         "23.72",
         "9.15",
         "44160.92",
         "36000.0",
         "4.6",
         "Slight rain showers"
        ]
       ],
       "shape": {
        "columns": 13,
        "rows": 5
       }
      },
      "text/html": [
       "<div>\n",
       "<style scoped>\n",
       "    .dataframe tbody tr th:only-of-type {\n",
       "        vertical-align: middle;\n",
       "    }\n",
       "\n",
       "    .dataframe tbody tr th {\n",
       "        vertical-align: top;\n",
       "    }\n",
       "\n",
       "    .dataframe thead th {\n",
       "        text-align: right;\n",
       "    }\n",
       "</style>\n",
       "<table border=\"1\" class=\"dataframe\">\n",
       "  <thead>\n",
       "    <tr style=\"text-align: right;\">\n",
       "      <th></th>\n",
       "      <th>temperature_2m_max</th>\n",
       "      <th>temperature_2m_min</th>\n",
       "      <th>apparent_temperature_max</th>\n",
       "      <th>apparent_temperature_min</th>\n",
       "      <th>wind_speed_10m_max</th>\n",
       "      <th>wind_gusts_10m_max</th>\n",
       "      <th>wind_direction_10m_dominant</th>\n",
       "      <th>shortwave_radiation_sum</th>\n",
       "      <th>uv_index_max</th>\n",
       "      <th>daylight_duration</th>\n",
       "      <th>sunshine_duration</th>\n",
       "      <th>et0_fao_evapotranspiration</th>\n",
       "      <th>weather</th>\n",
       "    </tr>\n",
       "  </thead>\n",
       "  <tbody>\n",
       "    <tr>\n",
       "      <th>0</th>\n",
       "      <td>29.1</td>\n",
       "      <td>20.1</td>\n",
       "      <td>34.4</td>\n",
       "      <td>23.0</td>\n",
       "      <td>10.0</td>\n",
       "      <td>13.0</td>\n",
       "      <td>31.0</td>\n",
       "      <td>16.23</td>\n",
       "      <td>8.75</td>\n",
       "      <td>44266.77</td>\n",
       "      <td>28800.00</td>\n",
       "      <td>3.29</td>\n",
       "      <td>Moderate rain showers</td>\n",
       "    </tr>\n",
       "    <tr>\n",
       "      <th>1</th>\n",
       "      <td>27.5</td>\n",
       "      <td>20.6</td>\n",
       "      <td>33.1</td>\n",
       "      <td>23.8</td>\n",
       "      <td>8.3</td>\n",
       "      <td>13.0</td>\n",
       "      <td>317.0</td>\n",
       "      <td>15.04</td>\n",
       "      <td>8.40</td>\n",
       "      <td>44240.46</td>\n",
       "      <td>22565.18</td>\n",
       "      <td>2.87</td>\n",
       "      <td>Moderate rain showers</td>\n",
       "    </tr>\n",
       "    <tr>\n",
       "      <th>2</th>\n",
       "      <td>26.3</td>\n",
       "      <td>20.6</td>\n",
       "      <td>32.5</td>\n",
       "      <td>24.1</td>\n",
       "      <td>9.4</td>\n",
       "      <td>18.4</td>\n",
       "      <td>207.0</td>\n",
       "      <td>18.17</td>\n",
       "      <td>8.70</td>\n",
       "      <td>44214.03</td>\n",
       "      <td>34493.40</td>\n",
       "      <td>3.47</td>\n",
       "      <td>Slight rain showers</td>\n",
       "    </tr>\n",
       "    <tr>\n",
       "      <th>3</th>\n",
       "      <td>26.8</td>\n",
       "      <td>20.7</td>\n",
       "      <td>34.9</td>\n",
       "      <td>23.9</td>\n",
       "      <td>5.7</td>\n",
       "      <td>17.3</td>\n",
       "      <td>60.0</td>\n",
       "      <td>13.68</td>\n",
       "      <td>8.65</td>\n",
       "      <td>44187.51</td>\n",
       "      <td>23368.11</td>\n",
       "      <td>2.77</td>\n",
       "      <td>Moderate rain showers</td>\n",
       "    </tr>\n",
       "    <tr>\n",
       "      <th>4</th>\n",
       "      <td>29.6</td>\n",
       "      <td>19.8</td>\n",
       "      <td>35.5</td>\n",
       "      <td>22.5</td>\n",
       "      <td>9.7</td>\n",
       "      <td>14.4</td>\n",
       "      <td>48.0</td>\n",
       "      <td>23.72</td>\n",
       "      <td>9.15</td>\n",
       "      <td>44160.92</td>\n",
       "      <td>36000.00</td>\n",
       "      <td>4.60</td>\n",
       "      <td>Slight rain showers</td>\n",
       "    </tr>\n",
       "  </tbody>\n",
       "</table>\n",
       "</div>"
      ],
      "text/plain": [
       "   temperature_2m_max  temperature_2m_min  apparent_temperature_max  \\\n",
       "0                29.1                20.1                      34.4   \n",
       "1                27.5                20.6                      33.1   \n",
       "2                26.3                20.6                      32.5   \n",
       "3                26.8                20.7                      34.9   \n",
       "4                29.6                19.8                      35.5   \n",
       "\n",
       "   apparent_temperature_min  wind_speed_10m_max  wind_gusts_10m_max  \\\n",
       "0                      23.0                10.0                13.0   \n",
       "1                      23.8                 8.3                13.0   \n",
       "2                      24.1                 9.4                18.4   \n",
       "3                      23.9                 5.7                17.3   \n",
       "4                      22.5                 9.7                14.4   \n",
       "\n",
       "   wind_direction_10m_dominant  shortwave_radiation_sum  uv_index_max  \\\n",
       "0                         31.0                    16.23          8.75   \n",
       "1                        317.0                    15.04          8.40   \n",
       "2                        207.0                    18.17          8.70   \n",
       "3                         60.0                    13.68          8.65   \n",
       "4                         48.0                    23.72          9.15   \n",
       "\n",
       "   daylight_duration  sunshine_duration  et0_fao_evapotranspiration  \\\n",
       "0           44266.77           28800.00                        3.29   \n",
       "1           44240.46           22565.18                        2.87   \n",
       "2           44214.03           34493.40                        3.47   \n",
       "3           44187.51           23368.11                        2.77   \n",
       "4           44160.92           36000.00                        4.60   \n",
       "\n",
       "                 weather  \n",
       "0  Moderate rain showers  \n",
       "1  Moderate rain showers  \n",
       "2    Slight rain showers  \n",
       "3  Moderate rain showers  \n",
       "4    Slight rain showers  "
      ]
     },
     "execution_count": 31,
     "metadata": {},
     "output_type": "execute_result"
    }
   ],
   "source": [
    "df.head()"
   ]
  }
 ],
 "metadata": {
  "kernelspec": {
   "display_name": "weather-prediction-venv",
   "language": "python",
   "name": "python3"
  },
  "language_info": {
   "codemirror_mode": {
    "name": "ipython",
    "version": 3
   },
   "file_extension": ".py",
   "mimetype": "text/x-python",
   "name": "python",
   "nbconvert_exporter": "python",
   "pygments_lexer": "ipython3",
   "version": "3.10.11"
  }
 },
 "nbformat": 4,
 "nbformat_minor": 5
}
